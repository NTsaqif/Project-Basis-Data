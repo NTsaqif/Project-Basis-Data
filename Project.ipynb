{
 "cells": [
  {
   "cell_type": "code",
   "execution_count": 12,
   "metadata": {},
   "outputs": [
    {
     "name": "stdout",
     "output_type": "stream",
     "text": [
      "{'_id': ObjectId('646b3dbba0535f00986e805c'), 'id': 'space-zombie-bingo', 'title': 'Space Zombie Bingo!', 'audienceScore': '50', 'releaseDateStreaming': '2018-08-25', 'runtimeMinutes': '75', 'genre': 'Comedy, Horror, Sci-fi', 'originalLanguage': 'English', 'director': 'George Ormrod', 'writer': 'George Ormrod,John Sabotta'}\n"
     ]
    }
   ],
   "source": [
    "import pymongo\n",
    "\n",
    "myclient = pymongo.MongoClient(\"mongodb://localhost:27017/\")\n",
    "mydb = myclient[\"Project\"]\n",
    "mycol = mydb[\"Rotten Tomato\"]\n",
    "\n",
    "x = mycol.find_one()\n",
    "\n",
    "print(x)"
   ]
  },
  {
   "cell_type": "code",
   "execution_count": 2,
   "metadata": {},
   "outputs": [
    {
     "data": {
      "text/html": [
       "<div>\n",
       "<style scoped>\n",
       "    .dataframe tbody tr th:only-of-type {\n",
       "        vertical-align: middle;\n",
       "    }\n",
       "\n",
       "    .dataframe tbody tr th {\n",
       "        vertical-align: top;\n",
       "    }\n",
       "\n",
       "    .dataframe thead th {\n",
       "        text-align: right;\n",
       "    }\n",
       "</style>\n",
       "<table border=\"1\" class=\"dataframe\">\n",
       "  <thead>\n",
       "    <tr style=\"text-align: right;\">\n",
       "      <th></th>\n",
       "      <th>id</th>\n",
       "      <th>title</th>\n",
       "      <th>audienceScore</th>\n",
       "      <th>tomatoMeter</th>\n",
       "      <th>rating</th>\n",
       "      <th>ratingContents</th>\n",
       "      <th>releaseDateTheaters</th>\n",
       "      <th>releaseDateStreaming</th>\n",
       "      <th>runtimeMinutes</th>\n",
       "      <th>genre</th>\n",
       "      <th>originalLanguage</th>\n",
       "      <th>director</th>\n",
       "      <th>writer</th>\n",
       "      <th>boxOffice</th>\n",
       "      <th>distributor</th>\n",
       "      <th>soundMix</th>\n",
       "    </tr>\n",
       "  </thead>\n",
       "  <tbody>\n",
       "    <tr>\n",
       "      <th>0</th>\n",
       "      <td>space-zombie-bingo</td>\n",
       "      <td>Space Zombie Bingo!</td>\n",
       "      <td>50.0</td>\n",
       "      <td>NaN</td>\n",
       "      <td>NaN</td>\n",
       "      <td>NaN</td>\n",
       "      <td>NaN</td>\n",
       "      <td>2018-08-25</td>\n",
       "      <td>75.0</td>\n",
       "      <td>Comedy, Horror, Sci-fi</td>\n",
       "      <td>English</td>\n",
       "      <td>George Ormrod</td>\n",
       "      <td>George Ormrod,John Sabotta</td>\n",
       "      <td>NaN</td>\n",
       "      <td>NaN</td>\n",
       "      <td>NaN</td>\n",
       "    </tr>\n",
       "    <tr>\n",
       "      <th>1</th>\n",
       "      <td>the_green_grass</td>\n",
       "      <td>The Green Grass</td>\n",
       "      <td>NaN</td>\n",
       "      <td>NaN</td>\n",
       "      <td>NaN</td>\n",
       "      <td>NaN</td>\n",
       "      <td>NaN</td>\n",
       "      <td>2020-02-11</td>\n",
       "      <td>114.0</td>\n",
       "      <td>Drama</td>\n",
       "      <td>English</td>\n",
       "      <td>Tiffany Edwards</td>\n",
       "      <td>Tiffany Edwards</td>\n",
       "      <td>NaN</td>\n",
       "      <td>NaN</td>\n",
       "      <td>NaN</td>\n",
       "    </tr>\n",
       "    <tr>\n",
       "      <th>2</th>\n",
       "      <td>love_lies</td>\n",
       "      <td>Love, Lies</td>\n",
       "      <td>43.0</td>\n",
       "      <td>NaN</td>\n",
       "      <td>NaN</td>\n",
       "      <td>NaN</td>\n",
       "      <td>NaN</td>\n",
       "      <td>NaN</td>\n",
       "      <td>120.0</td>\n",
       "      <td>Drama</td>\n",
       "      <td>Korean</td>\n",
       "      <td>Park Heung-Sik,Heung-Sik Park</td>\n",
       "      <td>Ha Young-Joon,Jeon Yun-su,Song Hye-jin</td>\n",
       "      <td>NaN</td>\n",
       "      <td>NaN</td>\n",
       "      <td>NaN</td>\n",
       "    </tr>\n",
       "    <tr>\n",
       "      <th>3</th>\n",
       "      <td>the_sore_losers_1997</td>\n",
       "      <td>Sore Losers</td>\n",
       "      <td>60.0</td>\n",
       "      <td>NaN</td>\n",
       "      <td>NaN</td>\n",
       "      <td>NaN</td>\n",
       "      <td>NaN</td>\n",
       "      <td>2020-10-23</td>\n",
       "      <td>90.0</td>\n",
       "      <td>Action, Mystery &amp; thriller</td>\n",
       "      <td>English</td>\n",
       "      <td>John Michael McCarthy</td>\n",
       "      <td>John Michael McCarthy</td>\n",
       "      <td>NaN</td>\n",
       "      <td>NaN</td>\n",
       "      <td>NaN</td>\n",
       "    </tr>\n",
       "    <tr>\n",
       "      <th>4</th>\n",
       "      <td>dinosaur_island_2002</td>\n",
       "      <td>Dinosaur Island</td>\n",
       "      <td>70.0</td>\n",
       "      <td>NaN</td>\n",
       "      <td>NaN</td>\n",
       "      <td>NaN</td>\n",
       "      <td>NaN</td>\n",
       "      <td>2017-03-27</td>\n",
       "      <td>80.0</td>\n",
       "      <td>Fantasy, Adventure, Animation</td>\n",
       "      <td>English</td>\n",
       "      <td>Will Meugniot</td>\n",
       "      <td>John Loy</td>\n",
       "      <td>NaN</td>\n",
       "      <td>NaN</td>\n",
       "      <td>NaN</td>\n",
       "    </tr>\n",
       "  </tbody>\n",
       "</table>\n",
       "</div>"
      ],
      "text/plain": [
       "                     id                title  audienceScore  tomatoMeter  \\\n",
       "0    space-zombie-bingo  Space Zombie Bingo!           50.0          NaN   \n",
       "1       the_green_grass      The Green Grass            NaN          NaN   \n",
       "2             love_lies           Love, Lies           43.0          NaN   \n",
       "3  the_sore_losers_1997          Sore Losers           60.0          NaN   \n",
       "4  dinosaur_island_2002      Dinosaur Island           70.0          NaN   \n",
       "\n",
       "  rating ratingContents releaseDateTheaters releaseDateStreaming  \\\n",
       "0    NaN            NaN                 NaN           2018-08-25   \n",
       "1    NaN            NaN                 NaN           2020-02-11   \n",
       "2    NaN            NaN                 NaN                  NaN   \n",
       "3    NaN            NaN                 NaN           2020-10-23   \n",
       "4    NaN            NaN                 NaN           2017-03-27   \n",
       "\n",
       "   runtimeMinutes                          genre originalLanguage  \\\n",
       "0            75.0         Comedy, Horror, Sci-fi          English   \n",
       "1           114.0                          Drama          English   \n",
       "2           120.0                          Drama           Korean   \n",
       "3            90.0     Action, Mystery & thriller          English   \n",
       "4            80.0  Fantasy, Adventure, Animation          English   \n",
       "\n",
       "                        director                                  writer  \\\n",
       "0                  George Ormrod              George Ormrod,John Sabotta   \n",
       "1                Tiffany Edwards                         Tiffany Edwards   \n",
       "2  Park Heung-Sik,Heung-Sik Park  Ha Young-Joon,Jeon Yun-su,Song Hye-jin   \n",
       "3          John Michael McCarthy                   John Michael McCarthy   \n",
       "4                  Will Meugniot                                John Loy   \n",
       "\n",
       "  boxOffice distributor soundMix  \n",
       "0       NaN         NaN      NaN  \n",
       "1       NaN         NaN      NaN  \n",
       "2       NaN         NaN      NaN  \n",
       "3       NaN         NaN      NaN  \n",
       "4       NaN         NaN      NaN  "
      ]
     },
     "execution_count": 2,
     "metadata": {},
     "output_type": "execute_result"
    }
   ],
   "source": [
    "import pandas as pd \n",
    "import numpy as np \n",
    "\n",
    "df = pd.read_csv(\"C:/Project/rotten_tomatoes_movies.csv\")\n",
    "df.head()"
   ]
  },
  {
   "cell_type": "code",
   "execution_count": 40,
   "metadata": {},
   "outputs": [
    {
     "data": {
      "text/plain": [
       "id                           0\n",
       "title                      367\n",
       "audienceScore            70010\n",
       "tomatoMeter             109381\n",
       "rating                  129267\n",
       "ratingContents          129267\n",
       "releaseDateTheaters     112485\n",
       "releaseDateStreaming     63838\n",
       "runtimeMinutes           13827\n",
       "genre                    11083\n",
       "originalLanguage         13858\n",
       "director                  4194\n",
       "writer                   53142\n",
       "boxOffice               128515\n",
       "distributor             120253\n",
       "soundMix                127341\n",
       "dtype: int64"
      ]
     },
     "execution_count": 40,
     "metadata": {},
     "output_type": "execute_result"
    }
   ],
   "source": [
    "df.isnull().sum()"
   ]
  },
  {
   "cell_type": "code",
   "execution_count": 47,
   "metadata": {},
   "outputs": [
    {
     "data": {
      "text/plain": [
       "Text(0, 0.5, '')"
      ]
     },
     "execution_count": 47,
     "metadata": {},
     "output_type": "execute_result"
    },
    {
     "data": {
      "image/png": "[encoded data removed]",
      "text/plain": [
       "<Figure size 640x480 with 1 Axes>"
      ]
     },
     "metadata": {},
     "output_type": "display_data"
    }
   ],
   "source": [
    "ax = df['audienceScore'][:10].sort_values().plot(kind='pie',shadow=True,autopct='%1.0f%%', stacked=True, title=\"Perbandingan Genre yang paling banyak digunakan di Film\",colormap='Spectral')\n",
    "ax.set_ylabel(\"\")\n",
    "\n"
   ]
  }
 ],
 "metadata": {
  "kernelspec": {
   "display_name": "Python 3",
   "language": "python",
   "name": "python3"
  },
  "language_info": {
   "codemirror_mode": {
    "name": "ipython",
    "version": 3
   },
   "file_extension": ".py",
   "mimetype": "text/x-python",
   "name": "python",
   "nbconvert_exporter": "python",
   "pygments_lexer": "ipython3",
   "version": "3.11.1"
  },
  "orig_nbformat": 4
 },
 "nbformat": 4,
 "nbformat_minor": 2
}
